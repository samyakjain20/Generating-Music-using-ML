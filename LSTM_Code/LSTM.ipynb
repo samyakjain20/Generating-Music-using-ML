{
  "cells": [
    {
      "cell_type": "code",
      "execution_count": null,
      "metadata": {
        "id": "Wybw2a0bnBgA"
      },
      "outputs": [],
      "source": [
        "import numpy as np\n",
        "import torch\n",
        "import torch.nn as nn\n",
        "import os\n",
        "\n",
        "from keras.models import Sequential, load_model\n",
        "from keras.layers import LSTM, Dropout, TimeDistributed, Dense, Activation, Embedding"
      ]
    },
    {
      "cell_type": "code",
      "execution_count": null,
      "metadata": {
        "id": "bxhkU2Wyf22T"
      },
      "outputs": [],
      "source": [
        "from tensorflow import keras\n",
        "\n",
        "import tensorflow as tf\n",
        "physical_devices = tf.config.list_physical_devices('GPU')\n",
        "tf.config.experimental.set_memory_growth(physical_devices[0], True)\n"
      ]
    },
    {
      "cell_type": "code",
      "execution_count": null,
      "metadata": {
        "id": "FejO-5fqKEM-"
      },
      "outputs": [],
      "source": [
        "def build_model(batch_size, seq_len, unique_chars):\n",
        "    model = Sequential()\n",
        "    model.add(Embedding(unique_chars, 256, batch_input_shape=(batch_size, seq_len)))\n",
        "  \n",
        "    model.add(LSTM(128, return_sequences=True, stateful=True))\n",
        "    model.add(Dropout(0.25))\n",
        "    model.add(LSTM(128, return_sequences=True, stateful=True))\n",
        "    model.add(Dropout(0.25))\n",
        "    model.add(LSTM(128, return_sequences=True, stateful=True))\n",
        "    model.add(Dropout(0.25))\n",
        "    model.add(LSTM(128, return_sequences=True, stateful=True))\n",
        "    model.add(Dropout(0.25))\n",
        "\n",
        "    model.add(TimeDistributed(Dense(unique_chars))) \n",
        "    model.add(Activation('softmax'))\n",
        "    return model"
      ]
    },
    {
      "cell_type": "code",
      "execution_count": null,
      "metadata": {
        "id": "OPZuJLduiAet"
      },
      "outputs": [],
      "source": [
        "def model_to_predict(unique_chars):\n",
        "    model = Sequential()\n",
        "    model.add(Embedding(unique_chars, 256, batch_input_shape=(1, 1)))\n",
        "\n",
        "    model.add(LSTM(128, return_sequences=True, stateful=True))\n",
        "    model.add(Dropout(0.25))\n",
        "    model.add(LSTM(128, return_sequences=True, stateful=True))\n",
        "    model.add(Dropout(0.25))\n",
        "    model.add(LSTM(128, return_sequences=True, stateful=True))\n",
        "    model.add(Dropout(0.25))\n",
        "    model.add(LSTM(128, return_sequences=False, stateful=True))\n",
        "    model.add(Dropout(0.25))\n",
        "\n",
        "    model.add(Dense(unique_chars))\n",
        "    model.add(Activation('softmax'))\n",
        "    return model"
      ]
    },
    {
      "cell_type": "code",
      "execution_count": null,
      "metadata": {
        "id": "RVJl1EfYqzv0"
      },
      "outputs": [],
      "source": [
        "def make_dictionary_from_all_input(text):\n",
        "  unique_characters = sorted(set(text))\n",
        "\n",
        "  dict_of_char_to_index = {char: index for index, char in enumerate(unique_characters)}\n",
        "  dict_of_index_to_char = {index: char for index, char in enumerate(unique_characters)}\n",
        "\n",
        "\n",
        "  no_of_unique_chars = len(unique_characters)\n",
        "\n",
        "  return dict_of_char_to_index,dict_of_index_to_char,no_of_unique_chars"
      ]
    },
    {
      "cell_type": "code",
      "execution_count": null,
      "metadata": {
        "id": "K8sY-7ATq1Wg"
      },
      "outputs": [],
      "source": [
        "def convert_the_input_char_to_integers(text,dict_of_char_to_index):\n",
        "  input_as_integers = np.asarray([dict_of_char_to_index[c] for c in text], dtype=np.int32)\n",
        "  return input_as_integers"
      ]
    },
    {
      "cell_type": "code",
      "execution_count": null,
      "metadata": {
        "id": "6Z9csO-qq0IL"
      },
      "outputs": [],
      "source": [
        "def make_different_batches(input_as_integers,batchsize,length_of_sequence,no_of_unique_chars):\n",
        "\n",
        "  no_of_batches = input_as_integers.shape[0]//batchsize     #Total number of characters/number of char in a batch\n",
        "  rows_per_batch = batchsize//length_of_sequence\n",
        "  \n",
        "\n",
        "  X = np.zeros((no_of_batches,rows_per_batch, length_of_sequence))      \n",
        "  Y = np.zeros((no_of_batches,rows_per_batch, length_of_sequence,no_of_unique_chars))\n",
        "\n",
        "  print(X.shape)\n",
        "  print(Y.shape)\n",
        "  current_batch = 0\n",
        "  current_row = 0\n",
        "  i = 0\n",
        "\n",
        "  while(i<(no_of_batches*batchsize)):\n",
        "    current_char_list = input_as_integers[i:i+length_of_sequence]           #For X\n",
        "    shifted_char_list = input_as_integers[i+1:i+length_of_sequence+1]       #For Y\n",
        "\n",
        "    X[current_batch,current_row,:] = current_char_list\n",
        "\n",
        "    hot_encoder_per_batch = np.zeros((length_of_sequence,no_of_unique_chars))\n",
        "\n",
        "    #Making one hot encoded of the list of next characters\n",
        "    for index, char in enumerate(shifted_char_list) :\n",
        "      hot_encoder_per_batch[index][char] = 1\n",
        "\n",
        "    Y[current_batch,current_row,:,:] = hot_encoder_per_batch\n",
        "\n",
        "    current_batch = (current_batch+1)%no_of_batches\n",
        "\n",
        "    if current_batch == 0:\n",
        "      current_row+=1\n",
        "\n",
        "    i+=length_of_sequence\n",
        "\n",
        "  return X,Y  "
      ]
    },
    {
      "cell_type": "code",
      "execution_count": null,
      "metadata": {
        "id": "Z4gKrS3q_BAO"
      },
      "outputs": [],
      "source": [
        "def train_the_model(X, Y, epochs, save_model_duration, unique_char, rows_per_batch,sequence):  \n",
        "\n",
        "  model = build_model(rows_per_batch, sequence, unique_char)\n",
        "  model.compile(loss='categorical_crossentropy', optimizer='adam', metrics=['accuracy'])\n",
        "\n",
        "  losses = []\n",
        "  accurracies = []\n",
        "  epoches = []\n",
        "  for epoch in range(epochs):\n",
        "    epoches.append(epoch+1)\n",
        "\n",
        "    _loss = []\n",
        "    _acc = []\n",
        "    for b in range(len(X)):\n",
        "      x = X[b]\n",
        "      y = Y[b]\n",
        "      loss, acc = model.train_on_batch(x, y)\n",
        "      _loss.append(loss)\n",
        "      _acc.append(acc)\n",
        "    \n",
        "    losses.append(np.average(_loss))\n",
        "    accurracies.append(np.average(_acc))\n",
        "    print('Epoch {}: Loss = {}, Accuracy = {}'.format(epoch + 1, _loss[-1], _acc[-1]))\n",
        "\n",
        "    if (epoch + 1) % save_model_duration == 0:\n",
        "      model.save_weights(os.path.join(\".\", 'model.{}.h5'.format(epoch+1)))\n",
        "\n",
        "\n",
        "  return epoches, losses, accurracies"
      ]
    },
    {
      "cell_type": "code",
      "execution_count": null,
      "metadata": {
        "id": "_MVBo0TQCCrm"
      },
      "outputs": [],
      "source": [
        "def predict_the_outputs(model,no_of_chars_to_predict,dict_of_char_to_index,dict_of_index_to_char,starting_char):\n",
        "\n",
        "  # print(starting_char)\n",
        "  predicted_chars = [dict_of_char_to_index[c] for c in starting_char]\n",
        "  # print(predicted_chars)\n",
        "  \n",
        "\n",
        "  for i in range(no_of_chars_to_predict):\n",
        "      batch = np.zeros((1, 1))\n",
        "      if len(predicted_chars) == 0:\n",
        "          batch[0, 0] = np.random.randint(len(dict_of_char_to_index))\n",
        "          \n",
        "      else:\n",
        "        batch[0, 0] = predicted_chars[-1]\n",
        "          \n",
        "          \n",
        "      y_pred = model.predict_on_batch(batch).ravel()\n",
        "      next_char = np.random.choice(range(len(dict_of_char_to_index)), p=y_pred)\n",
        "      predicted_chars.append(next_char)\n",
        "\n",
        "  return predicted_chars\n",
        "\n",
        "def predict(path_of_model,dict_of_char_to_index,dict_of_index_to_char,no_of_chars_to_predict,starting_char,name_of_model):\n",
        "\n",
        "  model = model_to_predict(len(dict_of_char_to_index))\n",
        "  model.load_weights(os.path.join(path_of_model, name_of_model))\n",
        "\n",
        "  output_list = predict_the_outputs(model,no_of_chars_to_predict,dict_of_char_to_index,dict_of_index_to_char,starting_char)\n",
        "\n",
        "  music = \"\"\n",
        "\n",
        "  # print(output_list)\n",
        "  for i in output_list:\n",
        "    music+=str(dict_of_index_to_char[i])\n",
        "\n",
        "  return music\n",
        "\n"
      ]
    },
    {
      "cell_type": "code",
      "execution_count": null,
      "metadata": {
        "id": "oirwIt5Lt-8c",
        "colab": {
          "base_uri": "https://localhost:8080/"
        },
        "outputId": "9d81a91c-fb87-4646-fa7e-9ab6409e9483"
      },
      "outputs": [
        {
          "output_type": "stream",
          "name": "stdout",
          "text": [
            "(342, 16, 64)\n",
            "(342, 16, 64, 69)\n"
          ]
        }
      ],
      "source": [
        "f=open(\"processed_data.txt\",\"w\")\n",
        "\n",
        "count=0\n",
        "with open(\"all_song_abc.txt\",\"r\") as file:\n",
        "  for line in file:\n",
        "    if line[0] not in [\"\\n\",\"X\",\"T\",\"%\",\"M\",\"K\",\"P\",\"S\",\"L\",\"V\"]:\n",
        "      f.write(line)\n",
        "\n",
        "\n",
        "with open(\"processed_data.txt\", 'r') as file:\n",
        "      text = file.read()\n",
        "\n",
        "\n",
        "SEQUENCE_LENGTH_PER_BATCH = 64\n",
        "NO_OF_ROWS_PER_BATCH = 16\n",
        "\n",
        "dict_of_char_to_index,dict_of_index_to_char,no_of_unique_chars = make_dictionary_from_all_input(text)\n",
        "T = convert_the_input_char_to_integers(text,dict_of_char_to_index)\n",
        "X,Y = make_different_batches(T,NO_OF_ROWS_PER_BATCH*SEQUENCE_LENGTH_PER_BATCH,SEQUENCE_LENGTH_PER_BATCH,no_of_unique_chars)"
      ]
    },
    {
      "cell_type": "code",
      "execution_count": null,
      "metadata": {
        "colab": {
          "base_uri": "https://localhost:8080/"
        },
        "id": "xPP0MPJianc9",
        "outputId": "36dfbfef-0b80-4aa9-c8e8-fea866b62865"
      },
      "outputs": [
        {
          "output_type": "stream",
          "name": "stdout",
          "text": [
            "Epoch 1: Loss = 2.6833407878875732, Accuracy = 0.26953125\n",
            "Epoch 2: Loss = 1.7613141536712646, Accuracy = 0.478515625\n",
            "Epoch 3: Loss = 1.609399437904358, Accuracy = 0.5078125\n",
            "Epoch 4: Loss = 1.5156384706497192, Accuracy = 0.5234375\n",
            "Epoch 5: Loss = 1.4396405220031738, Accuracy = 0.5234375\n",
            "Epoch 6: Loss = 1.415630578994751, Accuracy = 0.5361328125\n",
            "Epoch 7: Loss = 1.3848072290420532, Accuracy = 0.541015625\n",
            "Epoch 8: Loss = 1.3636335134506226, Accuracy = 0.556640625\n",
            "Epoch 9: Loss = 1.310457706451416, Accuracy = 0.552734375\n",
            "Epoch 10: Loss = 1.2912136316299438, Accuracy = 0.5673828125\n",
            "Epoch 11: Loss = 1.2740525007247925, Accuracy = 0.57421875\n",
            "Epoch 12: Loss = 1.2558050155639648, Accuracy = 0.5712890625\n",
            "Epoch 13: Loss = 1.2241382598876953, Accuracy = 0.5986328125\n",
            "Epoch 14: Loss = 1.2401148080825806, Accuracy = 0.5869140625\n",
            "Epoch 15: Loss = 1.2058533430099487, Accuracy = 0.5947265625\n",
            "Epoch 16: Loss = 1.1883341073989868, Accuracy = 0.59375\n",
            "Epoch 17: Loss = 1.1598846912384033, Accuracy = 0.6123046875\n",
            "Epoch 18: Loss = 1.1686925888061523, Accuracy = 0.6162109375\n",
            "Epoch 19: Loss = 1.1568350791931152, Accuracy = 0.6201171875\n",
            "Epoch 20: Loss = 1.1571019887924194, Accuracy = 0.623046875\n",
            "Epoch 21: Loss = 1.155185341835022, Accuracy = 0.61328125\n",
            "Epoch 22: Loss = 1.1264114379882812, Accuracy = 0.6337890625\n",
            "Epoch 23: Loss = 1.1319465637207031, Accuracy = 0.6337890625\n",
            "Epoch 24: Loss = 1.1320438385009766, Accuracy = 0.6279296875\n",
            "Epoch 25: Loss = 1.0905437469482422, Accuracy = 0.6455078125\n",
            "Epoch 26: Loss = 1.1054913997650146, Accuracy = 0.630859375\n",
            "Epoch 27: Loss = 1.0945677757263184, Accuracy = 0.6484375\n",
            "Epoch 28: Loss = 1.0779478549957275, Accuracy = 0.6474609375\n",
            "Epoch 29: Loss = 1.0905715227127075, Accuracy = 0.640625\n",
            "Epoch 30: Loss = 1.0717636346817017, Accuracy = 0.65625\n",
            "Epoch 31: Loss = 1.0475249290466309, Accuracy = 0.6474609375\n",
            "Epoch 32: Loss = 1.0757114887237549, Accuracy = 0.65234375\n",
            "Epoch 33: Loss = 1.0728610754013062, Accuracy = 0.650390625\n",
            "Epoch 34: Loss = 1.0657211542129517, Accuracy = 0.6455078125\n",
            "Epoch 35: Loss = 1.0514180660247803, Accuracy = 0.6650390625\n",
            "Epoch 36: Loss = 1.0324172973632812, Accuracy = 0.658203125\n",
            "Epoch 37: Loss = 1.0289855003356934, Accuracy = 0.6630859375\n",
            "Epoch 38: Loss = 1.0371496677398682, Accuracy = 0.6611328125\n",
            "Epoch 39: Loss = 1.0505478382110596, Accuracy = 0.6591796875\n",
            "Epoch 40: Loss = 1.0275808572769165, Accuracy = 0.671875\n",
            "Epoch 41: Loss = 1.0189486742019653, Accuracy = 0.669921875\n",
            "Epoch 42: Loss = 1.0168389081954956, Accuracy = 0.6865234375\n",
            "Epoch 43: Loss = 1.0308799743652344, Accuracy = 0.6669921875\n",
            "Epoch 44: Loss = 1.010787010192871, Accuracy = 0.68359375\n",
            "Epoch 45: Loss = 1.0316938161849976, Accuracy = 0.6806640625\n",
            "Epoch 46: Loss = 1.0374432802200317, Accuracy = 0.6728515625\n",
            "Epoch 47: Loss = 1.015048623085022, Accuracy = 0.6728515625\n",
            "Epoch 48: Loss = 1.012685775756836, Accuracy = 0.66796875\n",
            "Epoch 49: Loss = 1.0267205238342285, Accuracy = 0.6689453125\n",
            "Epoch 50: Loss = 1.0140771865844727, Accuracy = 0.685546875\n"
          ]
        }
      ],
      "source": [
        "epoches, losses, accurracies = train_the_model(X, Y, epochs = 50, \n",
        "                                               save_model_duration = 10, \n",
        "                                               unique_char = no_of_unique_chars,\n",
        "                                               rows_per_batch = NO_OF_ROWS_PER_BATCH,\n",
        "                                               sequence = SEQUENCE_LENGTH_PER_BATCH\n",
        "                                               )"
      ]
    },
    {
      "cell_type": "code",
      "execution_count": null,
      "metadata": {
        "id": "yjZbQqpXeRwF"
      },
      "outputs": [],
      "source": [
        "import matplotlib.pyplot as plt   \n",
        "def visualizeLosses(epochs, losses, accuracies):\n",
        "    \n",
        "    plt.xlabel('Epoch') \n",
        "    plt.ylabel('Loss') \n",
        "    plt.title(\"Loss vs Epoch - LSTM\") \n",
        "    plt.plot(epochs, losses, label = \"Loss\")\n",
        "    # plt.plot(epochs, accuracies, label = \"Accuracy\")\n",
        "    # plt.legend(loc='upper right')\n",
        "    plt.show()\n",
        "    print()\n",
        "\n",
        "    plt.xlabel('Epoch') \n",
        "    plt.ylabel('Loss') \n",
        "    plt.title(\"Accuracy vs Epoch - LSTM\") \n",
        "    # plt.plot(epochs, losses, label = \"Loss\")\n",
        "    plt.plot(epochs, accuracies, label = \"Accuracy\")\n",
        "    # plt.legend(loc='upper right')\n",
        "    plt.show()\n",
        "    print()\n"
      ]
    },
    {
      "cell_type": "code",
      "execution_count": null,
      "metadata": {
        "colab": {
          "base_uri": "https://localhost:8080/",
          "height": 962
        },
        "id": "vIzm1UspeyyZ",
        "outputId": "fe4d3763-6fb2-4a4a-c878-e313bcdcc2d1"
      },
      "outputs": [
        {
          "output_type": "display_data",
          "data": {
            "text/plain": [
              "<Figure size 640x480 with 1 Axes>"
            ],
            "image/png": "[encoded data removed]"
          },
          "metadata": {}
        },
        {
          "output_type": "stream",
          "name": "stdout",
          "text": [
            "\n"
          ]
        },
        {
          "output_type": "display_data",
          "data": {
            "text/plain": [
              "<Figure size 640x480 with 1 Axes>"
            ],
            "image/png": "[encoded data removed]"
          },
          "metadata": {}
        },
        {
          "output_type": "stream",
          "name": "stdout",
          "text": [
            "\n"
          ]
        }
      ],
      "source": [
        "visualizeLosses(epoches, losses, accurracies)"
      ]
    },
    {
      "cell_type": "code",
      "execution_count": null,
      "metadata": {
        "colab": {
          "base_uri": "https://localhost:8080/"
        },
        "id": "jRcEdI3eocNs",
        "outputId": "690ee96d-f382-4a2a-c64d-f70c24c46cab"
      },
      "outputs": [
        {
          "output_type": "stream",
          "name": "stdout",
          "text": [
            "E3fa7|\n",
            "\"D7\"dcd BAG|\"G\"deB dee|\"D\"f3 ffd|\"D7\"f2e gfc|\"G\"d2G Gd||\n",
            "f|cBe Bcd|BAd dcB|AAD A2G|\n",
            "Gdc AFG|AF\n"
          ]
        }
      ],
      "source": [
        "generated_sequence = predict(\".\",dict_of_char_to_index,dict_of_index_to_char,100,\"E\",\"model.50.h5\")\n",
        "print(generated_sequence)"
      ]
    },
    {
      "cell_type": "code",
      "source": [
        "generated_sequence = predict(\".\",dict_of_char_to_index,dict_of_index_to_char,200,\"C\",\"model.50.h5\")\n",
        "print(generated_sequence)"
      ],
      "metadata": {
        "colab": {
          "base_uri": "https://localhost:8080/"
        },
        "id": "KtF1SgtT5lqQ",
        "outputId": "865589df-5801-4dc0-db75-3297ad990fb1"
      },
      "execution_count": null,
      "outputs": [
        {
          "output_type": "stream",
          "name": "stdout",
          "text": [
            "Ce3c3|\"C\"cce g2e|\"G\"d2B GGB|\"Am\"c3 A2:|\n",
            "e|\"D\"f2e d2f|\"Bm\"e2f -\"E7\"\"c\"d2B|\"E7\"BGE \"E7\"EFE|\"A\"E2E ABc|\"D\"d2B \"G\"G2B|\n",
            "\"Em\"cBc c2A|B3 -B3|\"D\"d3 d2e|\"G\"g2B \"A7\"BAE|\"D\"DED DFD|\n",
            "\"D\"DFA B2A|\"G\"G2B B2A|\"C\"c3 -B\n"
          ]
        }
      ]
    }
  ],
  "metadata": {
    "accelerator": "GPU",
    "colab": {
      "provenance": []
    },
    "gpuClass": "standard",
    "kernelspec": {
      "display_name": "Python 3",
      "name": "python3"
    },
    "language_info": {
      "name": "python"
    }
  },
  "nbformat": 4,
  "nbformat_minor": 0
}