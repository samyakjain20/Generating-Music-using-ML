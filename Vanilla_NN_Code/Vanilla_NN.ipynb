{
  "cells": [
    {
      "cell_type": "code",
      "execution_count": 42,
      "metadata": {
        "id": "E2Gw89ISjR1f"
      },
      "outputs": [],
      "source": [
        "import warnings\n",
        "warnings.filterwarnings(\"ignore\")\n",
        "\n",
        "import numpy as np\n",
        "import pandas as pd\n",
        "\n",
        "import matplotlib.pyplot as plt\n",
        "import seaborn as sns\n",
        "%matplotlib inline\n",
        "\n",
        "import torch\n",
        "import torchvision\n",
        "from torchvision import datasets\n",
        "from torch.utils.data import DataLoader,random_split\n",
        "from torchvision import transforms\n",
        "from torch.autograd import Variable\n",
        "import matplotlib.pyplot as plt \n",
        "import torch.nn as nn\n",
        "device = torch.device('cuda' if torch.cuda.is_available() else 'cpu')\n"
      ]
    },
    {
      "cell_type": "code",
      "execution_count": 43,
      "metadata": {
        "id": "JxI5frN-jgKJ"
      },
      "outputs": [],
      "source": [
        "class VanillaNN(nn.Module):\n",
        "    \n",
        "    def __init__(self,input_layer_size,hidden_layer_size,hidden_layer_2_size,output_layer_size):\n",
        "        super(VanillaNN,self).__init__()\n",
        "        self.first=nn.Linear(input_layer_size,hidden_layer_size)\n",
        "        self.relu_func=nn.ReLU()\n",
        "        self.second=nn.Linear(hidden_layer_size,output_layer_size)\n",
        "        # self.relu_func=nn.ReLU()\n",
        "        # self.third=nn.Linear(hidden_layer_2_size,output_layer_size)\n",
        "        self.soft_layer=nn.Softmax(dim=1)\n",
        "        # code here\n",
        "    def forward(self,x):\n",
        "        # code here\n",
        "        output = self.first(x)\n",
        "        output = self.relu_func(output)\n",
        "        output = self.second(output)\n",
        "        # output = self.relu_func(output)\n",
        "        # output = self.third(output)\n",
        "        output = self.soft_layer(output)\n",
        "        return output"
      ]
    },
    {
      "cell_type": "code",
      "execution_count": 44,
      "metadata": {
        "colab": {
          "base_uri": "https://localhost:8080/"
        },
        "id": "C4AYpvaW41uh",
        "outputId": "fb1df940-e88c-40c0-e433-224ee6e138ff"
      },
      "outputs": [
        {
          "output_type": "stream",
          "name": "stdout",
          "text": [
            "torch.Size([89864, 52])\n"
          ]
        }
      ],
      "source": [
        "f=open(\"processed_data.txt\",\"w\")\n",
        "count=0\n",
        "with open(\"data.txt\",\"r\") as file:\n",
        "  for line in file:\n",
        "    if line[0] not in [\"\\n\",\"X\",\"T\",\"%\",\"M\",\"K\",\"P\",\"S\",\"L\",\"V\"]:\n",
        "      f.write(line)\n",
        "\n",
        "\n",
        "\n",
        "with open('processed_data.txt', 'r') as file:\n",
        "    text = file.read()\n",
        "\n",
        "\n",
        "vocabulary = sorted(set(text))\n",
        "\n",
        "\n",
        "char_to_index = {char: index for index, char in enumerate(vocabulary)}\n",
        "index_to_char = {index: char for index, char in enumerate(vocabulary)}\n",
        "\n",
        "\n",
        "\n",
        "one_hot_encodings = []\n",
        "for letter in text:\n",
        "    index = char_to_index[letter]\n",
        "    one_hot = torch.zeros(len(vocabulary))\n",
        "    one_hot[index] = 1\n",
        "    one_hot_encodings.append(one_hot)\n",
        "\n",
        "\n",
        "# Convert the list of tensors into a single tensor\n",
        "one_hot_encodings = torch.stack(one_hot_encodings)\n",
        "\n",
        "# Print the resulting tensor\n",
        "print(one_hot_encodings.size())"
      ]
    },
    {
      "cell_type": "code",
      "execution_count": 45,
      "metadata": {
        "id": "uiGINiws6Uie"
      },
      "outputs": [],
      "source": [
        "window_size = 50 # number of last nodes considered\n",
        "stride = 1  # number of last nodes considered\n",
        "\n",
        "X = []\n",
        "Y = []\n",
        "\n",
        "for i in range(0, len(one_hot_encodings) - window_size, stride):\n",
        "    window = one_hot_encodings[i:i + window_size]\n",
        "    target = one_hot_encodings[i + window_size]\n",
        "\n",
        "    X.append(window)\n",
        "    Y.append(target)\n",
        "\n",
        "X = torch.stack(X)\n",
        "Y = torch.stack(Y)\n",
        "\n"
      ]
    },
    {
      "cell_type": "code",
      "execution_count": 46,
      "metadata": {
        "colab": {
          "base_uri": "https://localhost:8080/"
        },
        "id": "UsQe8IYCFJsO",
        "outputId": "c17f1e50-3e8b-4fff-af4b-ffb179083250"
      },
      "outputs": [
        {
          "output_type": "execute_result",
          "data": {
            "text/plain": [
              "torch.Size([89814, 50, 52])"
            ]
          },
          "metadata": {},
          "execution_count": 46
        }
      ],
      "source": [
        "X.size()"
      ]
    },
    {
      "cell_type": "code",
      "execution_count": 47,
      "metadata": {
        "id": "tzagoxhx7itr"
      },
      "outputs": [],
      "source": [
        "new_shape = (-1, window_size * len(vocabulary))\n",
        "X_reshaped = torch.reshape(X, new_shape)\n"
      ]
    },
    {
      "cell_type": "code",
      "execution_count": 48,
      "metadata": {
        "colab": {
          "base_uri": "https://localhost:8080/"
        },
        "id": "MtfsliFCCbDS",
        "outputId": "4e6059f3-6992-406f-a1bc-051fcb752523"
      },
      "outputs": [
        {
          "output_type": "execute_result",
          "data": {
            "text/plain": [
              "torch.Size([89814, 52])"
            ]
          },
          "metadata": {},
          "execution_count": 48
        }
      ],
      "source": [
        "Y.size()"
      ]
    },
    {
      "cell_type": "code",
      "execution_count": 49,
      "metadata": {
        "colab": {
          "base_uri": "https://localhost:8080/"
        },
        "id": "2uUsaOz7FWlg",
        "outputId": "77d5072d-2deb-42fb-fe92-80a2d4e8e131"
      },
      "outputs": [
        {
          "output_type": "execute_result",
          "data": {
            "text/plain": [
              "torch.Size([89814, 2600])"
            ]
          },
          "metadata": {},
          "execution_count": 49
        }
      ],
      "source": [
        "X_reshaped.size()"
      ]
    },
    {
      "cell_type": "code",
      "execution_count": 50,
      "metadata": {
        "id": "o0je_EEN9S1e"
      },
      "outputs": [],
      "source": [
        "X_reshaped_ongpu= X_reshaped.to(device)\n",
        "Y_ongpu = Y.to(device)\n",
        "# print(\"X_reshaped shape:\", X_reshaped.shape)"
      ]
    },
    {
      "cell_type": "code",
      "execution_count": 51,
      "metadata": {
        "id": "XtSGKkvD9sxb"
      },
      "outputs": [],
      "source": [
        "input_layer_size=len(vocabulary) * window_size\n",
        "hidden_layer_size=1000    #2500\n",
        "hidden_layer_2_size=1000\n",
        "output_layer_size=len(vocabulary)\n",
        "learning_rate=0.00001\n",
        "model = VanillaNN(input_layer_size,hidden_layer_size,hidden_layer_2_size,output_layer_size).to(device)\n",
        "optimizer=torch.optim.Adam(model.parameters(),lr=learning_rate)\n",
        "criterion = nn.CrossEntropyLoss()"
      ]
    },
    {
      "cell_type": "code",
      "execution_count": 52,
      "metadata": {
        "colab": {
          "base_uri": "https://localhost:8080/"
        },
        "id": "YdwmDvuW6zxc",
        "outputId": "ea0e3b88-d02d-443c-c467-8abb01cc1e38"
      },
      "outputs": [
        {
          "output_type": "execute_result",
          "data": {
            "text/plain": [
              "torch.Size([89814, 52])"
            ]
          },
          "metadata": {},
          "execution_count": 52
        }
      ],
      "source": [
        "Y.size()"
      ]
    },
    {
      "cell_type": "code",
      "execution_count": 53,
      "metadata": {
        "id": "C9KQOtQsGPXY"
      },
      "outputs": [],
      "source": [
        "def predict(sequence,model,length):\n",
        "  for i in range(length):\n",
        "    index_seq = []\n",
        "    for i in sequence:\n",
        "      index_seq.append(char_to_index[i])\n",
        "    one_hot_encodings = []\n",
        "    for letter in index_seq:\n",
        "        one_hot = torch.zeros(len(vocabulary))\n",
        "        one_hot[letter] = 1\n",
        "        one_hot_encodings.append(one_hot)\n",
        "    \n",
        "    one_hot_encodings = torch.stack(one_hot_encodings)\n",
        "    new_shape = (-1, window_size * len(vocabulary))\n",
        "    X_test = torch.reshape(one_hot_encodings, new_shape)\n",
        "    X_test=X_test.to(device)\n",
        "    output=model(X_test)\n",
        "    ind=torch.argmax(output).to('cpu')\n",
        "    char_new=str(index_to_char[ind.item()])\n",
        "    sequence=sequence[1:]+char_new\n",
        "    # print(ind)\n",
        "    print(index_to_char[ind.item()],end=\"\")\n",
        "\n",
        "\n"
      ]
    },
    {
      "cell_type": "code",
      "execution_count": 54,
      "metadata": {
        "colab": {
          "base_uri": "https://localhost:8080/"
        },
        "id": "RtC1JI-mso2i",
        "outputId": "e01f6b70-7bdc-48ce-b8a9-46826d715f97"
      },
      "outputs": [
        {
          "output_type": "execute_result",
          "data": {
            "text/plain": [
              "torch.Size([2600])"
            ]
          },
          "metadata": {},
          "execution_count": 54
        }
      ],
      "source": [
        "X_reshaped_ongpu[0].size()"
      ]
    },
    {
      "cell_type": "code",
      "execution_count": 55,
      "metadata": {
        "colab": {
          "base_uri": "https://localhost:8080/"
        },
        "id": "q0Yz9AqH-6Bl",
        "outputId": "1a2a2570-6067-43f1-966f-1a89607dfdce"
      },
      "outputs": [
        {
          "output_type": "stream",
          "name": "stdout",
          "text": [
            "Epoch 1: loss = 3.9509761333465576\n",
            "Epoch 2: loss = 3.948002576828003\n",
            "Epoch 3: loss = 3.9449245929718018\n",
            "Epoch 4: loss = 3.952538013458252\n",
            "Epoch 5: loss = 3.9634718894958496\n",
            "Epoch 6: loss = 3.9682774543762207\n",
            "Epoch 7: loss = 3.9697372913360596\n",
            "Epoch 8: loss = 3.9692986011505127\n",
            "Epoch 9: loss = 3.9676880836486816\n",
            "Epoch 10: loss = 3.9660592079162598\n",
            "Epoch 11: loss = 3.9654831886291504\n",
            "Epoch 12: loss = 3.965749502182007\n",
            "Epoch 13: loss = 3.9663350582122803\n",
            "Epoch 14: loss = 3.9670560359954834\n",
            "Epoch 15: loss = 3.967912197113037\n",
            "Epoch 16: loss = 3.968886375427246\n",
            "Epoch 17: loss = 3.969907283782959\n",
            "Epoch 18: loss = 3.970869541168213\n",
            "Epoch 19: loss = 3.971721649169922\n",
            "Epoch 20: loss = 3.9724502563476562\n",
            "tensor(4.4230e-05, device='cuda:0', grad_fn=<DivBackward0>)\n",
            "Epoch 21: loss = 3.9730658531188965\n",
            "Epoch 22: loss = 3.973598003387451\n",
            "Epoch 23: loss = 3.9740617275238037\n",
            "Epoch 24: loss = 3.9744696617126465\n",
            "Epoch 25: loss = 3.9748313426971436\n",
            "Epoch 26: loss = 3.9751505851745605\n",
            "Epoch 27: loss = 3.9754292964935303\n",
            "Epoch 28: loss = 3.975673198699951\n",
            "Epoch 29: loss = 3.975881576538086\n",
            "Epoch 30: loss = 3.9760475158691406\n",
            "Epoch 31: loss = 3.976173162460327\n",
            "Epoch 32: loss = 3.976256847381592\n",
            "Epoch 33: loss = 3.976285696029663\n",
            "Epoch 34: loss = 3.976261854171753\n",
            "Epoch 35: loss = 3.976156234741211\n",
            "Epoch 36: loss = 3.9759559631347656\n",
            "Epoch 37: loss = 3.9756360054016113\n",
            "Epoch 38: loss = 3.9751784801483154\n",
            "Epoch 39: loss = 3.9746055603027344\n",
            "Epoch 40: loss = 3.9740090370178223\n",
            "tensor(4.4247e-05, device='cuda:0', grad_fn=<DivBackward0>)\n",
            "Epoch 41: loss = 3.9735333919525146\n",
            "Epoch 42: loss = 3.973259449005127\n",
            "Epoch 43: loss = 3.9731521606445312\n",
            "Epoch 44: loss = 3.9731407165527344\n",
            "Epoch 45: loss = 3.973167657852173\n",
            "Epoch 46: loss = 3.9731969833374023\n",
            "Epoch 47: loss = 3.973209857940674\n",
            "Epoch 48: loss = 3.9731898307800293\n",
            "Epoch 49: loss = 3.9731338024139404\n",
            "Epoch 50: loss = 3.973046064376831\n",
            "Epoch 51: loss = 3.972946882247925\n",
            "Epoch 52: loss = 3.9728617668151855\n",
            "Epoch 53: loss = 3.972811698913574\n",
            "Epoch 54: loss = 3.9727985858917236\n",
            "Epoch 55: loss = 3.9728105068206787\n",
            "Epoch 56: loss = 3.972834587097168\n",
            "Epoch 57: loss = 3.9728622436523438\n",
            "Epoch 58: loss = 3.9728875160217285\n",
            "Epoch 59: loss = 3.972907304763794\n",
            "Epoch 60: loss = 3.9729199409484863\n",
            "tensor(4.4235e-05, device='cuda:0', grad_fn=<DivBackward0>)\n",
            "Epoch 61: loss = 3.972926616668701\n",
            "Epoch 62: loss = 3.9729278087615967\n",
            "Epoch 63: loss = 3.9729251861572266\n",
            "Epoch 64: loss = 3.9729180335998535\n",
            "Epoch 65: loss = 3.9729065895080566\n",
            "Epoch 66: loss = 3.972893476486206\n",
            "Epoch 67: loss = 3.9728753566741943\n",
            "Epoch 68: loss = 3.9728550910949707\n",
            "Epoch 69: loss = 3.972829580307007\n",
            "Epoch 70: loss = 3.9728024005889893\n",
            "Epoch 71: loss = 3.9727723598480225\n",
            "Epoch 72: loss = 3.972740411758423\n",
            "Epoch 73: loss = 3.9727020263671875\n",
            "Epoch 74: loss = 3.9726552963256836\n",
            "Epoch 75: loss = 3.9725899696350098\n",
            "Epoch 76: loss = 3.97249436378479\n",
            "Epoch 77: loss = 3.972353458404541\n",
            "Epoch 78: loss = 3.972179889678955\n",
            "Epoch 79: loss = 3.972052812576294\n",
            "Epoch 80: loss = 3.9720358848571777\n",
            "tensor(4.4225e-05, device='cuda:0', grad_fn=<DivBackward0>)\n",
            "Epoch 81: loss = 3.972080707550049\n",
            "Epoch 82: loss = 3.9721221923828125\n",
            "Epoch 83: loss = 3.9721362590789795\n",
            "Epoch 84: loss = 3.972121477127075\n",
            "Epoch 85: loss = 3.972081422805786\n",
            "Epoch 86: loss = 3.9720184803009033\n",
            "Epoch 87: loss = 3.9719338417053223\n",
            "Epoch 88: loss = 3.9718260765075684\n",
            "Epoch 89: loss = 3.971689462661743\n",
            "Epoch 90: loss = 3.971513509750366\n",
            "Epoch 91: loss = 3.9712743759155273\n",
            "Epoch 92: loss = 3.9709277153015137\n",
            "Epoch 93: loss = 3.9703738689422607\n",
            "Epoch 94: loss = 3.969437837600708\n",
            "Epoch 95: loss = 3.967913866043091\n",
            "Epoch 96: loss = 3.9657928943634033\n",
            "Epoch 97: loss = 3.963120460510254\n",
            "Epoch 98: loss = 3.959404945373535\n",
            "Epoch 99: loss = 3.9534270763397217\n",
            "Epoch 100: loss = 3.942641496658325\n",
            "tensor(4.3898e-05, device='cuda:0', grad_fn=<DivBackward0>)\n"
          ]
        }
      ],
      "source": [
        "from google.colab import files\n",
        "\n",
        "def train(X_reshaped_ongpu, epochs=100):\n",
        "\n",
        "    losses = []\n",
        "    epoches = []\n",
        "    for epoch in range(epochs):\n",
        "        epoches.append(epoch+1)\n",
        "  \n",
        "        _loss = []\n",
        "        _acc = []\n",
        "\n",
        "        for i in range(0,len(X_reshaped_ongpu),128):  \n",
        "            optimizer.zero_grad()\n",
        "\n",
        "            outputs = model(X_reshaped_ongpu[i:i+1])\n",
        "            loss = criterion(outputs, Y_ongpu[i:i+1])    \n",
        "\n",
        "            loss.backward()\n",
        "            optimizer.step()\n",
        "            _loss.append(loss.item())\n",
        "\n",
        "        losses.append(np.average(_loss))\n",
        "        print('Epoch {}: loss = {}'.format(epoch + 1, _loss[-1]))\n",
        "\n",
        "        if (epoch+1)%20 ==0 :\n",
        "          file_name='model_params'+str(epoch+1)+\".pth\"\n",
        "          torch.save(model.state_dict(), file_name)\n",
        "          print(loss/len(X_reshaped_ongpu))\n",
        "        # files.download(file_name)\n",
        "      # loss.item()\n",
        "\n",
        "    return epoches, losses\n",
        "epoches, losses = train(X_reshaped_ongpu)"
      ]
    },
    {
      "cell_type": "code",
      "execution_count": 56,
      "metadata": {
        "id": "tqJOKUkNkJpn"
      },
      "outputs": [],
      "source": [
        "def visualizeLosses(epochs, losses):\n",
        "    \n",
        "    plt.xlabel('Epoch') \n",
        "    plt.ylabel('Loss') \n",
        "    plt.title(\"Loss vs Epoch - Vanilla\") \n",
        "    plt.plot(epochs, losses, label = \"Loss\")\n",
        "    # plt.plot(epochs, accuracies, label = \"Accuracy\")\n",
        "    # plt.legend(loc='upper right')\n",
        "    plt.show()\n",
        "    print()"
      ]
    },
    {
      "cell_type": "code",
      "execution_count": 57,
      "metadata": {
        "colab": {
          "base_uri": "https://localhost:8080/",
          "height": 489
        },
        "id": "mB5bDK9Ok0iG",
        "outputId": "bab00180-7641-45d0-c092-b462094d3d2b"
      },
      "outputs": [
        {
          "output_type": "display_data",
          "data": {
            "text/plain": [
              "<Figure size 640x480 with 1 Axes>"
            ],
            "image/png": "[encoded data removed]"
          },
          "metadata": {}
        },
        {
          "output_type": "stream",
          "name": "stdout",
          "text": [
            "\n"
          ]
        }
      ],
      "source": [
        "visualizeLosses(epoches, losses)"
      ]
    },
    {
      "cell_type": "code",
      "execution_count": 58,
      "metadata": {
        "id": "yQSpOqWGoMOe",
        "colab": {
          "base_uri": "https://localhost:8080/"
        },
        "outputId": "32417ddf-90e2-4e46-e0cd-305c36ce1063"
      },
      "outputs": [
        {
          "output_type": "stream",
          "name": "stdout",
          "text": [
            "\"cBc ccB|\"D\"ccA \"cc|BA\"cdB c2c|\"G\"|\"ccc|\"A\"cBcdcBccccBcBcBc|\"cccccc\"ccc|\"cc\"ccc ccc|\"c\"ccc c|\"|\"cccccccc|cBccccc|cccccc|\"cc|ccc|\"ccccccccc|cc|c|ccc|cc"
          ]
        }
      ],
      "source": [
        "start_index = np.random.randint(len(text)-window_size-2)\n",
        "\n",
        "input = text[start_index:start_index+window_size]\n",
        "predict(input,model,150)"
      ]
    },
    {
      "cell_type": "code",
      "source": [
        "start_index = np.random.randint(len(text)-window_size-2)\n",
        "\n",
        "input = text[start_index:start_index+window_size]\n",
        "predict(input,model,150)"
      ],
      "metadata": {
        "colab": {
          "base_uri": "https://localhost:8080/"
        },
        "id": "OL1JIcoWEP2G",
        "outputId": "561cad4c-2bf4-4c8e-a80b-890ff2031d3e"
      },
      "execution_count": 59,
      "outputs": [
        {
          "output_type": "stream",
          "name": "stdout",
          "text": [
            "e\"A\"A|Ac|\"B\"G2d d2c|Gc cccc\"Bc\" \"cc\"ccGcccc\"c\"cc\"c\"ccdccc|\"cccccc|\"cccccccccc|\"Bcc|cc|c|cccc|\"ccc|cc|\"ccc|cAccc|\"ccc|ccc|\"ccccccccc|\"ccccccc|ccc|\"c\"cc"
          ]
        }
      ]
    }
  ],
  "metadata": {
    "accelerator": "GPU",
    "colab": {
      "provenance": []
    },
    "gpuClass": "standard",
    "kernelspec": {
      "display_name": "Python 3",
      "name": "python3"
    },
    "language_info": {
      "name": "python"
    }
  },
  "nbformat": 4,
  "nbformat_minor": 0
}